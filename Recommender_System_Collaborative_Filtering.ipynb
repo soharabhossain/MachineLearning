{
  "nbformat": 4,
  "nbformat_minor": 0,
  "metadata": {
    "colab": {
      "name": "Recommender_System_Collaborative_Filtering.ipynb",
      "version": "0.3.2",
      "provenance": [],
      "include_colab_link": true
    },
    "kernelspec": {
      "name": "python3",
      "display_name": "Python 3"
    }
  },
  "cells": [
    {
      "cell_type": "markdown",
      "metadata": {
        "id": "view-in-github",
        "colab_type": "text"
      },
      "source": [
        "[View in Colaboratory](https://colab.research.google.com/github/soharabhossain/MachineLearning/blob/master/Recommender_System_Collaborative_Filtering.ipynb)"
      ]
    },
    {
      "metadata": {
        "id": "AfZkFXHTOgx-",
        "colab_type": "text"
      },
      "cell_type": "markdown",
      "source": [
        "Acquiring data....."
      ]
    },
    {
      "metadata": {
        "id": "PEfc8NKGMqed",
        "colab_type": "code",
        "colab": {}
      },
      "cell_type": "code",
      "source": [
        "\n",
        "# # Acquiring the Data\n",
        "\n",
        "# To acquire and extract the data, simply run the following Bash scripts:  \n",
        "# Dataset acquired from [GroupLens](http://grouplens.org/datasets/movielens/). Lets download the dataset. To download the data, we will use **`!wget`**. To download the data, we will use `!wget` to download it from IBM Object Storage.  \n",
        "\n",
        "get_ipython().system('wget -O moviedataset.zip https://s3-api.us-geo.objectstorage.softlayer.net/cf-courses-data/CognitiveClass/ML0101ENv3/labs/moviedataset.zip')\n",
        "print('unziping ...')\n",
        "get_ipython().system('unzip -o -j moviedataset.zip ')\n"
      ],
      "execution_count": 0,
      "outputs": []
    },
    {
      "metadata": {
        "id": "935OIj-fOmFK",
        "colab_type": "text"
      },
      "cell_type": "markdown",
      "source": [
        "Import libraries....."
      ]
    },
    {
      "metadata": {
        "id": "FDpfUOm8Nhw-",
        "colab_type": "code",
        "colab": {}
      },
      "cell_type": "code",
      "source": [
        "# First, let's get all of the imports out of the way:\n",
        "\n",
        "\n",
        "# Dataframe manipulation library\n",
        "import pandas as pd\n",
        "\n",
        "# Math functions, we'll only need the sqrt function so let's import only that\n",
        "from math import sqrt\n",
        "import numpy as np\n",
        "\n",
        "import matplotlib.pyplot as plt\n",
        "get_ipython().run_line_magic('matplotlib', 'inline')\n"
      ],
      "execution_count": 0,
      "outputs": []
    },
    {
      "metadata": {
        "id": "4grgMn6OObJI",
        "colab_type": "text"
      },
      "cell_type": "markdown",
      "source": [
        "Read data from file."
      ]
    },
    {
      "metadata": {
        "id": "N68TWTdHNotw",
        "colab_type": "code",
        "colab": {
          "base_uri": "https://localhost:8080/",
          "height": 206
        },
        "outputId": "86fdc7f8-2a42-445d-d4af-96f1241fff12"
      },
      "cell_type": "code",
      "source": [
        "# Now let's read each file into their Dataframes:\n",
        "\n",
        "#Storing the movie information into a pandas dataframe\n",
        "movies_df = pd.read_csv('movies.csv')\n",
        "\n",
        "#Storing the user information into a pandas dataframe\n",
        "ratings_df = pd.read_csv('ratings.csv')\n",
        "\n",
        "\n",
        "# Let's also take a peek at how each of them are organized:\n",
        "\n",
        "#Head is a function that gets the first N rows of a dataframe. N's default is 5.\n",
        "movies_df.head()\n"
      ],
      "execution_count": 8,
      "outputs": [
        {
          "output_type": "execute_result",
          "data": {
            "text/html": [
              "<div>\n",
              "<style scoped>\n",
              "    .dataframe tbody tr th:only-of-type {\n",
              "        vertical-align: middle;\n",
              "    }\n",
              "\n",
              "    .dataframe tbody tr th {\n",
              "        vertical-align: top;\n",
              "    }\n",
              "\n",
              "    .dataframe thead th {\n",
              "        text-align: right;\n",
              "    }\n",
              "</style>\n",
              "<table border=\"1\" class=\"dataframe\">\n",
              "  <thead>\n",
              "    <tr style=\"text-align: right;\">\n",
              "      <th></th>\n",
              "      <th>movieId</th>\n",
              "      <th>title</th>\n",
              "      <th>genres</th>\n",
              "    </tr>\n",
              "  </thead>\n",
              "  <tbody>\n",
              "    <tr>\n",
              "      <th>0</th>\n",
              "      <td>1</td>\n",
              "      <td>Toy Story (1995)</td>\n",
              "      <td>Adventure|Animation|Children|Comedy|Fantasy</td>\n",
              "    </tr>\n",
              "    <tr>\n",
              "      <th>1</th>\n",
              "      <td>2</td>\n",
              "      <td>Jumanji (1995)</td>\n",
              "      <td>Adventure|Children|Fantasy</td>\n",
              "    </tr>\n",
              "    <tr>\n",
              "      <th>2</th>\n",
              "      <td>3</td>\n",
              "      <td>Grumpier Old Men (1995)</td>\n",
              "      <td>Comedy|Romance</td>\n",
              "    </tr>\n",
              "    <tr>\n",
              "      <th>3</th>\n",
              "      <td>4</td>\n",
              "      <td>Waiting to Exhale (1995)</td>\n",
              "      <td>Comedy|Drama|Romance</td>\n",
              "    </tr>\n",
              "    <tr>\n",
              "      <th>4</th>\n",
              "      <td>5</td>\n",
              "      <td>Father of the Bride Part II (1995)</td>\n",
              "      <td>Comedy</td>\n",
              "    </tr>\n",
              "  </tbody>\n",
              "</table>\n",
              "</div>"
            ],
            "text/plain": [
              "   movieId                               title  \\\n",
              "0        1                    Toy Story (1995)   \n",
              "1        2                      Jumanji (1995)   \n",
              "2        3             Grumpier Old Men (1995)   \n",
              "3        4            Waiting to Exhale (1995)   \n",
              "4        5  Father of the Bride Part II (1995)   \n",
              "\n",
              "                                        genres  \n",
              "0  Adventure|Animation|Children|Comedy|Fantasy  \n",
              "1                   Adventure|Children|Fantasy  \n",
              "2                               Comedy|Romance  \n",
              "3                         Comedy|Drama|Romance  \n",
              "4                                       Comedy  "
            ]
          },
          "metadata": {
            "tags": []
          },
          "execution_count": 8
        }
      ]
    },
    {
      "metadata": {
        "id": "rOloHvx4Ot0e",
        "colab_type": "text"
      },
      "cell_type": "markdown",
      "source": [
        "Lets do a little preprocessing to extract out the year information from the title of the movies and add the year informartion as a separate column in the dataframe."
      ]
    },
    {
      "metadata": {
        "id": "n_bicAJjN2Fb",
        "colab_type": "code",
        "colab": {
          "base_uri": "https://localhost:8080/",
          "height": 206
        },
        "outputId": "227f0048-0790-4c47-db2a-48afdbf2c7ba"
      },
      "cell_type": "code",
      "source": [
        "# So each movie has a unique ID, a title with its release year along with it (Which may contain unicode characters) and several different genres in the same field. Let's remove the year from the title column and place it into its own one by using the handy [extract](http://pandas.pydata.org/pandas-docs/stable/generated/pandas.Series.str.extract.html#pandas.Series.str.extract) function that Pandas has.\n",
        "\n",
        "# Let's remove the year from the __title__ column by using pandas' replace function and store in a new __year__ column.\n",
        "\n",
        "#Using regular expressions to find a year stored between parentheses\n",
        "#We specify the parantheses so we don't conflict with movies that have years in their titles\n",
        "movies_df['year'] = movies_df.title.str.extract('(\\(\\d\\d\\d\\d\\))',expand=False)\n",
        "\n",
        "#Removing the parentheses\n",
        "movies_df['year'] = movies_df.year.str.extract('(\\d\\d\\d\\d)',expand=False)\n",
        "\n",
        "#Removing the years from the 'title' column\n",
        "movies_df['title'] = movies_df.title.str.replace('(\\(\\d\\d\\d\\d\\))', '')\n",
        "\n",
        "#Applying the strip function to get rid of any ending whitespace characters that may have appeared\n",
        "movies_df['title'] = movies_df['title'].apply(lambda x: x.strip())\n",
        "\n",
        "\n",
        "# Let's look at the result!\n",
        "\n",
        "movies_df.head()\n",
        "\n",
        "\n"
      ],
      "execution_count": 9,
      "outputs": [
        {
          "output_type": "execute_result",
          "data": {
            "text/html": [
              "<div>\n",
              "<style scoped>\n",
              "    .dataframe tbody tr th:only-of-type {\n",
              "        vertical-align: middle;\n",
              "    }\n",
              "\n",
              "    .dataframe tbody tr th {\n",
              "        vertical-align: top;\n",
              "    }\n",
              "\n",
              "    .dataframe thead th {\n",
              "        text-align: right;\n",
              "    }\n",
              "</style>\n",
              "<table border=\"1\" class=\"dataframe\">\n",
              "  <thead>\n",
              "    <tr style=\"text-align: right;\">\n",
              "      <th></th>\n",
              "      <th>movieId</th>\n",
              "      <th>title</th>\n",
              "      <th>genres</th>\n",
              "      <th>year</th>\n",
              "    </tr>\n",
              "  </thead>\n",
              "  <tbody>\n",
              "    <tr>\n",
              "      <th>0</th>\n",
              "      <td>1</td>\n",
              "      <td>Toy Story</td>\n",
              "      <td>Adventure|Animation|Children|Comedy|Fantasy</td>\n",
              "      <td>1995</td>\n",
              "    </tr>\n",
              "    <tr>\n",
              "      <th>1</th>\n",
              "      <td>2</td>\n",
              "      <td>Jumanji</td>\n",
              "      <td>Adventure|Children|Fantasy</td>\n",
              "      <td>1995</td>\n",
              "    </tr>\n",
              "    <tr>\n",
              "      <th>2</th>\n",
              "      <td>3</td>\n",
              "      <td>Grumpier Old Men</td>\n",
              "      <td>Comedy|Romance</td>\n",
              "      <td>1995</td>\n",
              "    </tr>\n",
              "    <tr>\n",
              "      <th>3</th>\n",
              "      <td>4</td>\n",
              "      <td>Waiting to Exhale</td>\n",
              "      <td>Comedy|Drama|Romance</td>\n",
              "      <td>1995</td>\n",
              "    </tr>\n",
              "    <tr>\n",
              "      <th>4</th>\n",
              "      <td>5</td>\n",
              "      <td>Father of the Bride Part II</td>\n",
              "      <td>Comedy</td>\n",
              "      <td>1995</td>\n",
              "    </tr>\n",
              "  </tbody>\n",
              "</table>\n",
              "</div>"
            ],
            "text/plain": [
              "   movieId                        title  \\\n",
              "0        1                    Toy Story   \n",
              "1        2                      Jumanji   \n",
              "2        3             Grumpier Old Men   \n",
              "3        4            Waiting to Exhale   \n",
              "4        5  Father of the Bride Part II   \n",
              "\n",
              "                                        genres  year  \n",
              "0  Adventure|Animation|Children|Comedy|Fantasy  1995  \n",
              "1                   Adventure|Children|Fantasy  1995  \n",
              "2                               Comedy|Romance  1995  \n",
              "3                         Comedy|Drama|Romance  1995  \n",
              "4                                       Comedy  1995  "
            ]
          },
          "metadata": {
            "tags": []
          },
          "execution_count": 9
        }
      ]
    },
    {
      "metadata": {
        "id": "RM-IfJ-YO_gk",
        "colab_type": "text"
      },
      "cell_type": "markdown",
      "source": [
        "Let us drop the genre column as we don't need it in this example."
      ]
    },
    {
      "metadata": {
        "id": "UC6TE1ExOHG8",
        "colab_type": "code",
        "colab": {
          "base_uri": "https://localhost:8080/",
          "height": 149
        },
        "outputId": "8cc6cfa3-679c-48aa-aa27-a7763784c22b"
      },
      "cell_type": "code",
      "source": [
        "# With that, let's also drop the genres column since we won't need it for this particular recommendation system.\n",
        "\n",
        "#Dropping the genres column\n",
        "movies_df = movies_df.drop('genres', 1)\n",
        "\n",
        "\n",
        "# Here's the final movies dataframe:\n",
        "\n",
        "print('\\n Dimension of the movies dataframe : ')\n",
        "print(movies_df.shape)\n",
        "\n",
        "print('\\n First few entries of the movies dataframe : ')\n",
        "print(movies_df.head())\n",
        "\n"
      ],
      "execution_count": 10,
      "outputs": [
        {
          "output_type": "stream",
          "text": [
            "(34208, 3)\n",
            "   movieId                        title  year\n",
            "0        1                    Toy Story  1995\n",
            "1        2                      Jumanji  1995\n",
            "2        3             Grumpier Old Men  1995\n",
            "3        4            Waiting to Exhale  1995\n",
            "4        5  Father of the Bride Part II  1995\n"
          ],
          "name": "stdout"
        }
      ]
    },
    {
      "metadata": {
        "id": "YqidbTwbP_Z8",
        "colab_type": "text"
      },
      "cell_type": "markdown",
      "source": [
        "Now check the Ratings dataframe.....drop the timestamp column as we don't need it."
      ]
    },
    {
      "metadata": {
        "id": "EY9rRb5DPZPN",
        "colab_type": "code",
        "colab": {
          "base_uri": "https://localhost:8080/",
          "height": 338
        },
        "outputId": "4cdc59ad-6e57-4639-cf1d-7a28e8d31b68"
      },
      "cell_type": "code",
      "source": [
        "\n",
        "# Every row in the ratings dataframe has a user id associated with at least one movie, a rating and a timestamp showing when they reviewed it. We won't be needing the timestamp column, so let's drop it to save on memory.\n",
        "\n",
        "print('\\n Dimension of the ratings dataframe : ')\n",
        "print(ratings_df.shape)\n",
        "\n",
        "\n",
        "print('\\n First few entries of the ratings dataframe : ')\n",
        "print(ratings_df.head())\n",
        "\n",
        "\n",
        "#Drop removes a specified row or column from a dataframe\n",
        "ratings_df = ratings_df.drop('timestamp', 1)\n",
        "\n",
        "\n",
        "# Here's how the final ratings Dataframe looks like:\n",
        "\n",
        "print(ratings_df.head())\n",
        "\n"
      ],
      "execution_count": 11,
      "outputs": [
        {
          "output_type": "stream",
          "text": [
            "\n",
            " Dimension of the ratings dataframe : \n",
            "(22884377, 4)\n",
            "\n",
            " First few entries of the ratings dataframe : \n",
            "   userId  movieId  rating   timestamp\n",
            "0       1      169     2.5  1204927694\n",
            "1       1     2471     3.0  1204927438\n",
            "2       1    48516     5.0  1204927435\n",
            "3       2     2571     3.5  1436165433\n",
            "4       2   109487     4.0  1436165496\n",
            "   userId  movieId  rating\n",
            "0       1      169     2.5\n",
            "1       1     2471     3.0\n",
            "2       1    48516     5.0\n",
            "3       2     2571     3.5\n",
            "4       2   109487     4.0\n"
          ],
          "name": "stdout"
        }
      ]
    },
    {
      "metadata": {
        "id": "0q_iY6GfQYuu",
        "colab_type": "text"
      },
      "cell_type": "markdown",
      "source": [
        "# Collaborative Filtering\n",
        "\n",
        "Now, time to start our work on recommendation systems. \n",
        " \n",
        "The first technique we're going to take a look at is called __Collaborative Filtering__,\n",
        " which is also known as __User-User Filtering__.\n",
        " As hinted by its alternate name, this technique uses other users to recommend items to the input user.\n",
        " It attempts to find users that have similar preferences and opinions as the input and then recommends items\n",
        " that they have liked to the input. There are several methods of finding similar users\n",
        " (Even some making use of Machine Learning), and the one we will be using here is going to be based on the __Pearson Correlation Function__.\n",
        " \n",
        "# <img src=\"https://ibm.box.com/shared/static/1ql8cbwhtkmbr6nge5e706ikzm5mua5w.png\" width=800px>\n",
        " \n",
        " \n",
        " The process for creating a User Based recommendation system is as follows:\n",
        "  - Select a user with the movies the user has watched\n",
        "  - Based on his rating to movies, find the top X neighbours \n",
        "  - Get the watched movie record of the user for each neighbour.\n",
        "  - Calculate a similarity score using some formula\n",
        "  - Recommend the items with the highest score\n",
        " \n",
        " \n"
      ]
    },
    {
      "metadata": {
        "id": "YWgBdKdlRJKk",
        "colab_type": "text"
      },
      "cell_type": "markdown",
      "source": [
        "Take an user input ratings for a number of movies.......we would recommend a few movies to this user subsequently."
      ]
    },
    {
      "metadata": {
        "id": "0GAP6qliQqMv",
        "colab_type": "code",
        "colab": {
          "base_uri": "https://localhost:8080/",
          "height": 206
        },
        "outputId": "c03b4ef6-183e-4c61-de06-68bafecacb3c"
      },
      "cell_type": "code",
      "source": [
        "# Let's begin by creating an input user to recommend movies to:\n",
        " \n",
        "# Notice: To add more movies, simply increase the amount of elements in the userInput. \n",
        "# Feel free to add more in! Just be sure to write it in with capital letters \n",
        "# if a movie starts with a \"The\", like \"The Matrix\" then write it in like this: 'Matrix, The' .\n",
        "\n",
        "\n",
        "userInput = [\n",
        "            {'title':'Breakfast Club, The', 'rating':5},\n",
        "            {'title':'Toy Story', 'rating':3.5},\n",
        "            {'title':'Jumanji', 'rating':2},\n",
        "            {'title':\"Pulp Fiction\", 'rating':5},\n",
        "            {'title':'Akira', 'rating':4.5}\n",
        "         ] \n",
        "inputMovies = pd.DataFrame(userInput)\n",
        "inputMovies\n",
        "\n"
      ],
      "execution_count": 12,
      "outputs": [
        {
          "output_type": "execute_result",
          "data": {
            "text/html": [
              "<div>\n",
              "<style scoped>\n",
              "    .dataframe tbody tr th:only-of-type {\n",
              "        vertical-align: middle;\n",
              "    }\n",
              "\n",
              "    .dataframe tbody tr th {\n",
              "        vertical-align: top;\n",
              "    }\n",
              "\n",
              "    .dataframe thead th {\n",
              "        text-align: right;\n",
              "    }\n",
              "</style>\n",
              "<table border=\"1\" class=\"dataframe\">\n",
              "  <thead>\n",
              "    <tr style=\"text-align: right;\">\n",
              "      <th></th>\n",
              "      <th>rating</th>\n",
              "      <th>title</th>\n",
              "    </tr>\n",
              "  </thead>\n",
              "  <tbody>\n",
              "    <tr>\n",
              "      <th>0</th>\n",
              "      <td>5.0</td>\n",
              "      <td>Breakfast Club, The</td>\n",
              "    </tr>\n",
              "    <tr>\n",
              "      <th>1</th>\n",
              "      <td>3.5</td>\n",
              "      <td>Toy Story</td>\n",
              "    </tr>\n",
              "    <tr>\n",
              "      <th>2</th>\n",
              "      <td>2.0</td>\n",
              "      <td>Jumanji</td>\n",
              "    </tr>\n",
              "    <tr>\n",
              "      <th>3</th>\n",
              "      <td>5.0</td>\n",
              "      <td>Pulp Fiction</td>\n",
              "    </tr>\n",
              "    <tr>\n",
              "      <th>4</th>\n",
              "      <td>4.5</td>\n",
              "      <td>Akira</td>\n",
              "    </tr>\n",
              "  </tbody>\n",
              "</table>\n",
              "</div>"
            ],
            "text/plain": [
              "   rating                title\n",
              "0     5.0  Breakfast Club, The\n",
              "1     3.5            Toy Story\n",
              "2     2.0              Jumanji\n",
              "3     5.0         Pulp Fiction\n",
              "4     4.5                Akira"
            ]
          },
          "metadata": {
            "tags": []
          },
          "execution_count": 12
        }
      ]
    },
    {
      "metadata": {
        "id": "c4mebi7qS6aW",
        "colab_type": "text"
      },
      "cell_type": "markdown",
      "source": [
        "We need to see the actual movie ratings by all the user corresponding to the movies rated by the input user. Therefore, we need to extract the ratings of all user from the ratings dataframe."
      ]
    },
    {
      "metadata": {
        "id": "VKgadBcrRYBa",
        "colab_type": "code",
        "colab": {
          "base_uri": "https://localhost:8080/",
          "height": 357
        },
        "outputId": "118499c7-d8cd-42cd-8bbd-7757948fa8cd"
      },
      "cell_type": "code",
      "source": [
        "# #### Add movieId to input user\n",
        "# With the input complete, let's extract the input movies's ID's from the movies dataframe and add them into it.\n",
        "\n",
        "# We can achieve this by first filtering out the rows that contain the input movies' title\n",
        "# and then merging this subset with the input dataframe. We also drop unnecessary columns for the input to save memory space.\n",
        "\n",
        "# Filtering out the movies by title...get the list of the movies rated by the input user.\n",
        "inputId = movies_df[movies_df['title'].isin(inputMovies['title'].tolist())]\n",
        "#print(inputId.head())\n",
        "\n",
        "# Then merging it so we can get the movieId. It's implicitly merging it by title.\n",
        "inputMovies = pd.merge(inputId, inputMovies) # Now we get the records for only the movies rated by the input user.\n",
        "#print(inputMovies.head())\n",
        "\n",
        "# Dropping information we won't use from the input dataframe\n",
        "inputMovies = inputMovies.drop('year', 1)\n",
        "\n",
        "#Final input dataframe\n",
        "# If a movie you added in above isn't here, then it might not be in the original \n",
        "# dataframe or it might spelled differently, please check capitalisation.\n",
        "print(inputMovies.head())\n"
      ],
      "execution_count": 13,
      "outputs": [
        {
          "output_type": "stream",
          "text": [
            "      movieId                title  year\n",
            "0           1            Toy Story  1995\n",
            "1           2              Jumanji  1995\n",
            "293       296         Pulp Fiction  1994\n",
            "1246     1274                Akira  1988\n",
            "1885     1968  Breakfast Club, The  1985\n",
            "   movieId                title  year  rating\n",
            "0        1            Toy Story  1995     3.5\n",
            "1        2              Jumanji  1995     2.0\n",
            "2      296         Pulp Fiction  1994     5.0\n",
            "3     1274                Akira  1988     4.5\n",
            "4     1968  Breakfast Club, The  1985     5.0\n",
            "   movieId                title  rating\n",
            "0        1            Toy Story     3.5\n",
            "1        2              Jumanji     2.0\n",
            "2      296         Pulp Fiction     5.0\n",
            "3     1274                Akira     4.5\n",
            "4     1968  Breakfast Club, The     5.0\n"
          ],
          "name": "stdout"
        }
      ]
    },
    {
      "metadata": {
        "id": "RVdNguBvUvqS",
        "colab_type": "text"
      },
      "cell_type": "markdown",
      "source": [
        "We need to find the user groups who have similar tastes....so first we find the information of all the users who has seen and rated the similar set of movies.  These users have **most similar 'taste'** in terms of selection of movies with the input-user."
      ]
    },
    {
      "metadata": {
        "id": "vr79mKc4U-QW",
        "colab_type": "code",
        "colab": {
          "base_uri": "https://localhost:8080/",
          "height": 847
        },
        "outputId": "7155f453-b8f7-44b1-ea4a-d9af84229f79"
      },
      "cell_type": "code",
      "source": [
        "# The users who has seen the same movies\n",
        "# With the movieId's in our input, we can now get the subset of users that have watched and reviewed the movies in our input.\n",
        "\n",
        "#Filtering out users that have watched movies that the input-user has also watched\n",
        "userSubset = ratings_df[ratings_df['movieId'].isin(inputMovies['movieId'].tolist())]\n",
        "print(userSubset.head())\n",
        "\n",
        "\n",
        "# We now group up the rows by userId.\n",
        "\n",
        "# Groupby creates several sub dataframes where they all have the same value in the column specified as the parameter\n",
        "# groupby object containing one group per user : specified by the userId\n",
        "# every group contains the information about the name of the movies seen by and rating given by this particular user\n",
        "userSubsetGroup = userSubset.groupby(['userId'])\n",
        "\n",
        "\n",
        "# Let's look at one of the users, e.g. the one with userID=1130\n",
        "print('\\n Information of a particular user group : specified by the userId : \\n')\n",
        "print(userSubsetGroup.get_group(1130))\n",
        "\n",
        "\n",
        "# Let's also sort these groups so the users that share the most movies in common with the input-user have higher priority. \n",
        "# This provides a richer recommendation since we won't go through every single user.\n",
        "\n",
        "# Sorting it so users with movie most in common with the input will have priority\n",
        "userSubsetGroup = sorted(userSubsetGroup,  key=lambda x: len(x[1]), reverse=True)\n",
        "\n",
        "# Now lets look at the first user\n",
        "print('\\n Information of top-five-similar-users : specified by the userId : \\n')\n",
        "print(userSubsetGroup[0:5])\n",
        "\n"
      ],
      "execution_count": 35,
      "outputs": [
        {
          "output_type": "stream",
          "text": [
            "     userId  movieId  rating\n",
            "19        4      296     4.0\n",
            "441      12     1968     3.0\n",
            "479      13        2     2.0\n",
            "531      13     1274     5.0\n",
            "681      14      296     2.0\n",
            "\n",
            " Information of a particular user group : specified by the userId : \n",
            "\n",
            "        userId  movieId  rating\n",
            "104167    1130        1     0.5\n",
            "104168    1130        2     4.0\n",
            "104214    1130      296     4.0\n",
            "104363    1130     1274     4.5\n",
            "104443    1130     1968     4.5\n",
            "\n",
            " Information of top-five-similar-users : specified by the userId : \n",
            "\n",
            "[(75,       userId  movieId  rating\n",
            "7507      75        1     5.0\n",
            "7508      75        2     3.5\n",
            "7540      75      296     5.0\n",
            "7633      75     1274     4.5\n",
            "7673      75     1968     5.0), (106,       userId  movieId  rating\n",
            "9083     106        1     2.5\n",
            "9084     106        2     3.0\n",
            "9115     106      296     3.5\n",
            "9198     106     1274     3.0\n",
            "9238     106     1968     3.5), (686,        userId  movieId  rating\n",
            "61336     686        1     4.0\n",
            "61337     686        2     3.0\n",
            "61377     686      296     4.0\n",
            "61478     686     1274     4.0\n",
            "61569     686     1968     5.0), (815,        userId  movieId  rating\n",
            "73747     815        1     4.5\n",
            "73748     815        2     3.0\n",
            "73922     815      296     5.0\n",
            "74362     815     1274     3.0\n",
            "74678     815     1968     4.5), (1040,        userId  movieId  rating\n",
            "96689    1040        1     3.0\n",
            "96690    1040        2     1.5\n",
            "96733    1040      296     3.5\n",
            "96859    1040     1274     3.0\n",
            "96922    1040     1968     4.0)]\n"
          ],
          "name": "stdout"
        }
      ]
    },
    {
      "metadata": {
        "id": "PXric_mAevZ9",
        "colab_type": "text"
      },
      "cell_type": "markdown",
      "source": [
        "## Similarity of users to input user\n",
        " Next, we are going to compare all users (not really all !!!) to our specified user and find the one that is most similar.  \n",
        " we're going to find out how similar each user is to the input through the __Pearson Correlation Coefficient__. It is used to measure the strength of a linear association between two variables. The formula for finding this coefficient between sets X and Y with N values can be seen in the image below. \n",
        " \n",
        "**Why Pearson Correlation?**\n",
        " \n",
        "Pearson correlation is invariant to scaling, i.e. multiplying all elements by a nonzero constant or adding any constant to all elements. For example, if you have two vectors X and Y,then, pearson(X, Y) == pearson(X, 2 * Y + 3). This is a pretty important property in recommendation systems because for example two users might rate two series of items totally different in terms of absolute rates, but they would be similar users (i.e. with similar ideas) with similar rates in various scales .\n",
        "\n",
        " \n",
        "# ![alt text](https://wikimedia.org/api/rest_v1/media/math/render/svg/bd1ccc2979b0fd1c1aec96e386f686ae874f9ec0 \"Pearson Correlation\")\n",
        "\n",
        " \n",
        "The values given by the formula vary from r = -1 to r = 1, where 1 forms a direct correlation between the two entities (it means a perfect positive correlation) and -1 forms a perfect negative correlation. \n",
        "\n",
        "In our case, a 1 means that the two users have similar tastes while a -1 means the opposite.\n",
        "\n",
        " We will select a subset of users to iterate through. This limit is imposed because we don't want to waste too much time going through every single user.\n",
        "\n",
        "Similarity score are to be computer over the ratings these users given to the movies."
      ]
    },
    {
      "metadata": {
        "id": "UrHJppvIeqv6",
        "colab_type": "code",
        "colab": {
          "base_uri": "https://localhost:8080/",
          "height": 603
        },
        "outputId": "32b2f962-8759-4651-c224-9ce781cc186f"
      },
      "cell_type": "code",
      "source": [
        "# Select to hundred entries.\n",
        "userSubsetGroup = userSubsetGroup[0:100]\n",
        "\n",
        "\n",
        "# Now, we calculate the Pearson Correlation between input user and subset groups\n",
        "# and store it in a dictionary, where the key is the userId and the value is the value of the pearson-coefficient\n",
        "\n",
        "# Store the Pearson Correlation in a dictionary, where the key is the user Id and the value is the coefficient\n",
        "pearsonCorrelationDict = {}\n",
        "\n",
        "# For every user group in our subset\n",
        "for name, group in userSubsetGroup:\n",
        "    \n",
        "    # Let's start by sorting the input and current user group so the values aren't mixed up later on\n",
        "    group = group.sort_values(by='movieId')\n",
        "    inputMovies = inputMovies.sort_values(by='movieId')\n",
        "    \n",
        "    # Get the N for the formula\n",
        "    nRatings = len(group)\n",
        "    \n",
        "    # Get the review scores for the movies that they both have in common\n",
        "    temp_df = inputMovies[inputMovies['movieId'].isin(group['movieId'].tolist())]\n",
        "\n",
        "    # And then store them in a temporary buffer variable in a list format to facilitate future calculations\n",
        "    tempRatingList = temp_df['rating'].tolist()\n",
        "    \n",
        "    # Let's also put the current user group reviews in a list format\n",
        "    tempGroupList = group['rating'].tolist()\n",
        "    \n",
        "    # Now let's calculate the pearson correlation between two users, so called, x and y\n",
        "    Sxx = sum([i**2 for i in tempRatingList]) - pow(sum(tempRatingList),2)/float(nRatings)\n",
        "    Syy = sum([i**2 for i in tempGroupList]) - pow(sum(tempGroupList),2)/float(nRatings)\n",
        "    Sxy = sum( i*j for i, j in zip(tempRatingList, tempGroupList)) - sum(tempRatingList)*sum(tempGroupList)/float(nRatings)\n",
        "    \n",
        "    # If the denominator is different than zero, then divide, else, 0 correlation.\n",
        "    if Sxx != 0 and Syy != 0:\n",
        "        pearsonCorrelationDict[name] = Sxy/sqrt(Sxx*Syy)\n",
        "    else:\n",
        "        pearsonCorrelationDict[name] = 0\n",
        "\n",
        "\n",
        "print(pearsonCorrelationDict.items())\n",
        "print('\\n--------------------------------\\n')\n",
        "pearsonDF = pd.DataFrame.from_dict(pearsonCorrelationDict, orient='index')\n",
        "pearsonDF.columns = ['similarityIndex']\n",
        "pearsonDF['userId'] = pearsonDF.index\n",
        "pearsonDF.index = range(len(pearsonDF))\n",
        "\n",
        "print('\\n--------------------------------\\n')\n",
        "print(pearsonDF.head())\n",
        "\n",
        "\n",
        "# The top x similar users to input user\n",
        "# Now let's get the top 50 users that are most similar to the input.\n",
        "topUsers=pearsonDF.sort_values(by='similarityIndex', ascending=False)[0:50]\n",
        "print('\\n--------------------------------\\n')\n",
        "print('\\nTop 10 users : \\n')\n",
        "print(topUsers.head(10))\n",
        "\n"
      ],
      "execution_count": 37,
      "outputs": [
        {
          "output_type": "stream",
          "text": [
            "dict_items([(75, 0.8272781516947562), (106, 0.5860090386731182), (686, 0.8320502943378437), (815, 0.5765566601970551), (1040, 0.9434563530497265), (1130, 0.2891574659831201), (1502, 0.8770580193070299), (1599, 0.4385290096535153), (1625, 0.716114874039432), (1950, 0.179028718509858), (2065, 0.4385290096535153), (2128, 0.5860090386731196), (2432, 0.1386750490563073), (2791, 0.8770580193070299), (2839, 0.8204126541423674), (2948, -0.11720180773462392), (3025, 0.45124262819713973), (3040, 0.89514359254929), (3186, 0.6784622064861935), (3271, 0.26989594817970664), (3429, 0.0), (3734, -0.15041420939904673), (4099, 0.05860090386731196), (4208, 0.29417420270727607), (4282, -0.4385290096535115), (4292, 0.6564386345361464), (4415, -0.11183835382312353), (4586, -0.9024852563942795), (4725, -0.08006407690254357), (4818, 0.4885967564883424), (5104, 0.7674257668936507), (5165, -0.4385290096535153), (5547, 0.17200522903844556), (6082, -0.04728779924109591), (6207, 0.9615384615384616), (6366, 0.6577935144802716), (6482, 0.0), (6530, -0.3516054232038709), (7235, 0.6981407669689391), (7403, 0.11720180773462363), (7641, 0.7161148740394331), (7996, 0.626600514784504), (8008, -0.22562131409856986), (8086, 0.6933752452815365), (8245, 0.0), (8572, 0.8600261451922278), (8675, 0.5370861555295773), (9101, -0.08600261451922278), (9358, 0.692178738358485), (9663, 0.193972725041952), (9994, 0.5030272728659587), (10248, -0.24806946917841693), (10315, 0.537086155529574), (10368, 0.4688072309384945), (10607, 0.41602514716892186), (10707, 0.9615384615384616), (10863, 0.6020183016345595), (11314, 0.8204126541423654), (11399, 0.517260600111872), (11769, 0.9376144618769914), (11827, 0.4902903378454601), (12069, 0.0), (12120, 0.9292940047327363), (12211, 0.8600261451922278), (12325, 0.9616783115081544), (12916, 0.5860090386731196), (12921, 0.6611073566849309), (13053, 0.9607689228305227), (13142, 0.6016568375961863), (13260, 0.7844645405527362), (13366, 0.8951435925492911), (13768, 0.8770580193070289), (13888, 0.2508726030021272), (13923, 0.3516054232038718), (13934, 0.17200522903844556), (14529, 0.7417901772340937), (14551, 0.537086155529574), (14588, 0.21926450482675766), (14984, 0.716114874039432), (15137, 0.5860090386731196), (15157, 0.9035841064985974), (15466, 0.7205766921228921), (15670, 0.516015687115336), (15834, 0.22562131409856986), (16292, 0.6577935144802716), (16456, 0.7161148740394331), (16506, 0.5481612620668942), (17246, 0.48038446141526137), (17438, 0.7093169886164387), (17501, 0.8168748513121271), (17502, 0.8272781516947562), (17666, 0.7689238340176859), (17735, 0.7042381820123422), (17742, 0.3922322702763681), (17757, 0.64657575013984), (17854, 0.537086155529574), (17897, 0.8770580193070289), (17944, 0.2713848825944774), (18301, 0.29838119751643016), (18509, 0.1322214713369862)])\n",
            "\n",
            "--------------------------------\n",
            "\n",
            "\n",
            "--------------------------------\n",
            "\n",
            "   similarityIndex  userId\n",
            "0         0.827278      75\n",
            "1         0.586009     106\n",
            "2         0.832050     686\n",
            "3         0.576557     815\n",
            "4         0.943456    1040\n",
            "\n",
            "--------------------------------\n",
            "\n",
            "\n",
            "Top 10 users : \n",
            "\n",
            "    similarityIndex  userId\n",
            "64         0.961678   12325\n",
            "34         0.961538    6207\n",
            "55         0.961538   10707\n",
            "67         0.960769   13053\n",
            "4          0.943456    1040\n",
            "59         0.937614   11769\n",
            "62         0.929294   12120\n",
            "80         0.903584   15157\n",
            "70         0.895144   13366\n",
            "17         0.895144    3040\n"
          ],
          "name": "stdout"
        }
      ]
    },
    {
      "metadata": {
        "id": "hCHGe7LGmJSM",
        "colab_type": "code",
        "colab": {}
      },
      "cell_type": "code",
      "source": [
        "# Now, let's start recommending movies to the input user.\n",
        "\n",
        "\n",
        "# Rating of selected users to all movies\n",
        "# We're going to do this by taking the weighted average of the ratings of the movies using the\n",
        "# Pearson Correlation as the weight.\n",
        "# But to do this, we first need to get the movies watched by the users in our __pearsonDF__ from the ratings dataframe\n",
        "# and then store their correlation in a new column called _similarityIndex\".\n",
        "# This is achieved below by merging of these two tables.\n",
        "\n",
        "\n",
        "topUsersRating=topUsers.merge(ratings_df, left_on='userId', right_on='userId', how='inner')\n",
        "topUsersRating.head()\n",
        "\n",
        "\n",
        "# Now all we need to do is simply multiply the movie rating by its weight (The similarity index),\n",
        "# then sum up the new ratings and divide it by the sum of the weights.\n",
        "\n",
        "# We can easily do this by simply multiplying two columns, then grouping up the dataframe by movieId and then dividing two columns:\n",
        "\n",
        "# It shows the idea of all similar users to candidate movies for the input user:\n",
        "\n",
        "\n",
        "#Multiplies the similarity by the user's ratings\n",
        "topUsersRating['weightedRating'] = topUsersRating['similarityIndex']*topUsersRating['rating']\n",
        "topUsersRating.head()\n",
        "\n",
        "\n",
        "#Applies a sum to the topUsers after grouping it up by userId\n",
        "tempTopUsersRating = topUsersRating.groupby('movieId').sum()[['similarityIndex','weightedRating']]\n",
        "tempTopUsersRating.columns = ['sum_similarityIndex','sum_weightedRating']\n",
        "tempTopUsersRating.head()\n",
        "\n",
        "\n",
        "\n",
        "#Creates an empty dataframe\n",
        "recommendation_df = pd.DataFrame()\n",
        "\n",
        "#Now we take the weighted average\n",
        "recommendation_df['weighted average recommendation score'] = tempTopUsersRating['sum_weightedRating']/tempTopUsersRating['sum_similarityIndex']\n",
        "recommendation_df['movieId'] = tempTopUsersRating.index\n",
        "recommendation_df.head()\n",
        "\n",
        "\n",
        "# Now let's sort it and see the top 20 movies that the algorithm recommended!\n",
        "\n",
        "recommendation_df = recommendation_df.sort_values(by='weighted average recommendation score', ascending=False)\n",
        "recommendation_df.head(10)\n",
        "\n",
        "\n",
        "movies_df.loc[movies_df['movieId'].isin(recommendation_df.head(10)['movieId'].tolist())]\n",
        "\n"
      ],
      "execution_count": 0,
      "outputs": []
    },
    {
      "metadata": {
        "id": "ZJGW_3yRnTH0",
        "colab_type": "text"
      },
      "cell_type": "markdown",
      "source": [
        "## Advantages and Disadvantages of Collaborative Filtering\n",
        " \n",
        "** Advantages**\n",
        " * Takes other user's ratings into consideration\n",
        " * Doesn't need to study or extract information from the recommended item\n",
        " * Adapts to the user's interests which might change over time\n",
        " \n",
        "** Disadvantages**\n",
        " * Approximation function can be slow\n",
        " * There might be a good number of users to approximate - huge data processing\n",
        " * Privacy issues when trying to learn the user's preferences\n"
      ]
    }
  ]
}